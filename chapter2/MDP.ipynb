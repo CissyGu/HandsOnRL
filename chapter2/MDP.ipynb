{
 "cells": [
  {
   "cell_type": "markdown",
   "metadata": {},
   "source": [
    "# 2. Hands on Reinforcement Learning"
   ]
  },
  {
   "cell_type": "code",
   "execution_count": 1,
   "metadata": {
    "collapsed": false
   },
   "outputs": [],
   "source": [
    "%load_ext autoreload\n",
    "%autoreload 2"
   ]
  },
  {
   "cell_type": "code",
   "execution_count": 2,
   "metadata": {
    "collapsed": true
   },
   "outputs": [],
   "source": [
    "import gym\n",
    "import numpy as np\n",
    "import time\n",
    "import math"
   ]
  },
  {
   "cell_type": "code",
   "execution_count": 3,
   "metadata": {
    "collapsed": true
   },
   "outputs": [],
   "source": [
    "env = gym.make('FrozenLake-v0')"
   ]
  },
  {
   "cell_type": "markdown",
   "metadata": {},
   "source": [
    "### Utility functions"
   ]
  },
  {
   "cell_type": "code",
   "execution_count": 4,
   "metadata": {
    "collapsed": true
   },
   "outputs": [],
   "source": [
    "def getReward(env):\n",
    "    n_states, n_actions = env.observation_space.n, env.action_space.n\n",
    "    \n",
    "    R = np.zeros((n_states, n_actions))\n",
    "    for s in range(n_states):\n",
    "        for a, moves in env.env.P[s].items():\n",
    "            for possible_move in moves:\n",
    "                prob, _, r, _ = possible_move\n",
    "                R[s, a] += r * prob\n",
    "    \n",
    "    return R\n",
    "\n",
    "def getProb(env):\n",
    "    n_states, n_actions = env.observation_space.n, env.action_space.n\n",
    "    \n",
    "    P = np.zeros((n_states, n_actions, n_states))\n",
    "    for s in range(n_states):\n",
    "        for a in range(n_actions):\n",
    "            for moves in env.env.P[s][a]:\n",
    "                prob, next_s, _, _ = moves\n",
    "                P[s, a, next_s] += prob\n",
    "    \n",
    "    return P\n",
    "\n",
    "def print_value(V, width=4, height=4):\n",
    "    return np.around(np.resize(V, (width, height)), 4)\n",
    "\n",
    "# let's plot the policy matrix (as in Part 1). according to\n",
    "# https://github.com/openai/gym/blob/master/gym/envs/toy_text/frozen_lake.py\n",
    "# LEFT = 0   DOWN = 1   RIGHT = 2  UP = 3\n",
    "def print_policy(V, width=4, height=4):\n",
    "    table = {0: \"←\", 1: \"↓\", 2: \"→\", 3: \"↑\"}\n",
    "    policy = np.resize(V, (width, height))\n",
    "    \n",
    "    # transform using the dictionary\n",
    "    return np.vectorize(table.get)(policy)"
   ]
  },
  {
   "cell_type": "markdown",
   "metadata": {},
   "source": [
    "### Policy Iteration"
   ]
  },
  {
   "cell_type": "code",
   "execution_count": 5,
   "metadata": {
    "collapsed": true
   },
   "outputs": [],
   "source": [
    "# to evaluate the policy, as there is no max in the equation we can just solve\n",
    "# the linear system\n",
    "def policy_evaluation(pi, P, R, gamma, n_states):\n",
    "    p = np.zeros((n_states, n_states))\n",
    "    r = np.zeros((n_states, 1))\n",
    "    \n",
    "    for s in range(n_states):\n",
    "        r[s] = R[s, pi[s]]\n",
    "        p[s, :] = P[s, pi[s], :]\n",
    "    \n",
    "    # we take [:, 0] to return a vector because otherwise we have\n",
    "    # a matrix of size (# states, 1)\n",
    "    return np.linalg.inv((np.eye(n_states) - gamma * p)).dot(r)[:, 0]\n",
    "\n",
    "def policy_iteration(env, epsilon, gamma, max_iter=10000):\n",
    "    n_states, n_actions = env.observation_space.n, env.action_space.n\n",
    "    \n",
    "    # initialize arbitrary value function\n",
    "    V = np.zeros(n_states)\n",
    "    \n",
    "    # initialize arbitrary policy\n",
    "    pi = np.ones(n_states, dtype=int)\n",
    "    \n",
    "    R = getReward(env)\n",
    "    P = getProb(env)\n",
    "    \n",
    "    i = 0\n",
    "    \n",
    "    while True and i < max_iter:\n",
    "        V_prev = V.copy()\n",
    "        \n",
    "        # evaluate the policy\n",
    "        V = policy_evaluation(pi, P, R, gamma, n_states)\n",
    "        \n",
    "        # policy improvement\n",
    "        for s in range(n_states):\n",
    "            pi[s] = np.argmax(R[s,:] + gamma * P[s, :, :].dot(V)) \n",
    "        \n",
    "        if np.linalg.norm(V_prev - V) < epsilon:\n",
    "            print(\"Policy iteration converged after \", i+1, \"epochs\")\n",
    "            break\n",
    "        \n",
    "        i += 1\n",
    "    \n",
    "    return V, pi"
   ]
  },
  {
   "cell_type": "code",
   "execution_count": 6,
   "metadata": {
    "collapsed": false
   },
   "outputs": [
    {
     "name": "stdout",
     "output_type": "stream",
     "text": [
      "Policy iteration converged after  4 epochs\n"
     ]
    }
   ],
   "source": [
    "V, pi = policy_iteration(env, 1e-8, 0.8)"
   ]
  },
  {
   "cell_type": "code",
   "execution_count": 7,
   "metadata": {
    "collapsed": false
   },
   "outputs": [
    {
     "data": {
      "text/plain": [
       "array([['↓', '↑', '→', '↑'],\n",
       "       ['←', '←', '←', '←'],\n",
       "       ['↑', '↓', '←', '←'],\n",
       "       ['←', '→', '↓', '←']], dtype='<U1')"
      ]
     },
     "execution_count": 7,
     "metadata": {},
     "output_type": "execute_result"
    }
   ],
   "source": [
    "print_value(V)\n",
    "print_policy(pi, width=4, height=4)"
   ]
  },
  {
   "cell_type": "markdown",
   "metadata": {},
   "source": [
    "### Value iteration"
   ]
  },
  {
   "cell_type": "code",
   "execution_count": 8,
   "metadata": {
    "collapsed": true
   },
   "outputs": [],
   "source": [
    "def valueIteration(env, epsilon, gamma, max_iter=10000):\n",
    "    n_states, n_actions = env.observation_space.n, env.action_space.n\n",
    "    \n",
    "    # initialize utilities to 0\n",
    "    V = np.zeros(n_states)\n",
    "    \n",
    "    R = getReward(env)\n",
    "    P = getProb(env)\n",
    "    \n",
    "    i = 0\n",
    "    while True and i < max_iter:\n",
    "        i += 1\n",
    "        prev_V = V.copy()\n",
    "        for s in range(n_states):\n",
    "            V[s] = max(R[s,:] + gamma * P[s, :, :].dot(V))\n",
    "\n",
    "        if np.linalg.norm(prev_V - V) <= epsilon:\n",
    "            print(\"Value iteration converged after \", i+1, \"epochs\")\n",
    "            break\n",
    "    \n",
    "    return V"
   ]
  },
  {
   "cell_type": "code",
   "execution_count": 9,
   "metadata": {
    "collapsed": false
   },
   "outputs": [
    {
     "name": "stdout",
     "output_type": "stream",
     "text": [
      "Value iteration converged after  46 epochs\n"
     ]
    },
    {
     "data": {
      "text/plain": [
       "array([[0.0154, 0.0156, 0.0274, 0.0157],\n",
       "       [0.0269, 0.    , 0.0598, 0.    ],\n",
       "       [0.0584, 0.1338, 0.1967, 0.    ],\n",
       "       [0.    , 0.2465, 0.5442, 0.    ]])"
      ]
     },
     "execution_count": 9,
     "metadata": {},
     "output_type": "execute_result"
    }
   ],
   "source": [
    "V = valueIteration(env, 1e-8, 0.8)\n",
    "\n",
    "# display value function:\n",
    "print_value(V)"
   ]
  },
  {
   "cell_type": "markdown",
   "metadata": {},
   "source": [
    "give us the expected reward we would get if we actually DO that action"
   ]
  },
  {
   "cell_type": "code",
   "execution_count": 10,
   "metadata": {
    "collapsed": true
   },
   "outputs": [],
   "source": [
    "# transform value function into a policy\n",
    "def value_to_policy(env, gamma, V):\n",
    "    n_states, n_actions = env.observation_space.n, env.action_space.n\n",
    "    \n",
    "    policy = np.zeros(n_states, dtype=int)\n",
    "    for state in range(n_states):\n",
    "        best_action = 0\n",
    "        best_reward = -float(\"inf\")\n",
    "        for action in range(n_actions):\n",
    "            moves = env.env.P[state][action] # [(prob, next_state, reward, terminate), ...]\n",
    "            avg_reward = sum([prob * reward + gamma * V[next_state] for (prob, next_state, reward, _) in moves])\n",
    "            \n",
    "            if avg_reward > best_reward:\n",
    "                best_reward = avg_reward\n",
    "                best_action = action\n",
    "        \n",
    "        policy[state] = best_action\n",
    "    \n",
    "    return policy"
   ]
  },
  {
   "cell_type": "code",
   "execution_count": 11,
   "metadata": {
    "collapsed": false
   },
   "outputs": [
    {
     "data": {
      "text/plain": [
       "array([1, 3, 2, 3, 0, 0, 0, 0, 3, 1, 0, 0, 0, 2, 1, 0])"
      ]
     },
     "execution_count": 11,
     "metadata": {},
     "output_type": "execute_result"
    }
   ],
   "source": [
    "pol = value_to_policy(env, 0.8, V)\n",
    "pol"
   ]
  },
  {
   "cell_type": "code",
   "execution_count": 12,
   "metadata": {
    "collapsed": false
   },
   "outputs": [
    {
     "data": {
      "text/plain": [
       "array([['↓', '↑', '→', '↑'],\n",
       "       ['←', '←', '←', '←'],\n",
       "       ['↑', '↓', '←', '←'],\n",
       "       ['←', '→', '↓', '←']], dtype='<U1')"
      ]
     },
     "execution_count": 12,
     "metadata": {},
     "output_type": "execute_result"
    }
   ],
   "source": [
    "print_policy(pol, width=4, height=4)"
   ]
  }
 ],
 "metadata": {
  "kernelspec": {
   "display_name": "Python 3",
   "language": "python",
   "name": "python3"
  },
  "language_info": {
   "codemirror_mode": {
    "name": "ipython",
    "version": 3
   },
   "file_extension": ".py",
   "mimetype": "text/x-python",
   "name": "python",
   "nbconvert_exporter": "python",
   "pygments_lexer": "ipython3",
   "version": "3.6.0"
  }
 },
 "nbformat": 4,
 "nbformat_minor": 2
}
