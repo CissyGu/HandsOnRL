{
 "cells": [
  {
   "cell_type": "markdown",
   "metadata": {},
   "source": [
    "### Hands Reinforcement Learning [Part 1]"
   ]
  },
  {
   "cell_type": "markdown",
   "metadata": {},
   "source": [
    "#### Q-learning and Q-table"
   ]
  },
  {
   "cell_type": "code",
   "execution_count": 9,
   "metadata": {
    "collapsed": false
   },
   "outputs": [],
   "source": [
    "import gym # useful to load the FrozenLake environment\n",
    "import numpy as np # useful to use the random.uniform() function\n",
    "import time # useful to measure the training time"
   ]
  },
  {
   "cell_type": "code",
   "execution_count": 22,
   "metadata": {
    "collapsed": false
   },
   "outputs": [],
   "source": [
    "from gym.envs.registration import register\n",
    "register(\n",
    "        id='Deterministic-4x4-FrozenLake-v0',\n",
    "        entry_point='gym.envs.toy_text.frozen_lake:FrozenLakeEnv',\n",
    "        kwargs={'map_name': '4x4', 'is_slippery': False})"
   ]
  },
  {
   "cell_type": "code",
   "execution_count": 23,
   "metadata": {
    "collapsed": false
   },
   "outputs": [
    {
     "name": "stdout",
     "output_type": "stream",
     "text": [
      "\n",
      "\u001b[41mS\u001b[0mFFF\n",
      "FHFH\n",
      "FFFH\n",
      "HFFG\n",
      "\n",
      "4\n",
      "16\n"
     ]
    }
   ],
   "source": [
    "env = gym.make('FrozenLake-v0')\n",
    "# env = gym.make('Deterministic-4x4-FrozenLake-v0') # load the environment\n",
    "state = env.reset() # reset the environment and return the starting state\n",
    "env.render() # render the environment\n",
    "print()\n",
    "print(env.action_space.n) # display the number of actions: 4\n",
    "print(env.observation_space.n) # display the number of states: 16"
   ]
  },
  {
   "cell_type": "code",
   "execution_count": 24,
   "metadata": {
    "collapsed": true
   },
   "outputs": [],
   "source": [
    "def epsilon_greedy(Q, s, epsilon):\n",
    "    p = np.random.uniform()\n",
    "    if p < epsilon:\n",
    "        # the sample() method from the environment allows\n",
    "        # to randomly sample an action from the set of actions\n",
    "        return env.action_space.sample()\n",
    "    else:\n",
    "        # act greedily by selecting the best action possible in the current state\n",
    "        return np.argmax(Q[s, :])"
   ]
  },
  {
   "cell_type": "code",
   "execution_count": 25,
   "metadata": {
    "collapsed": false
   },
   "outputs": [],
   "source": [
    "# initialize our Q-table: matrix of size [n_states, n_actions] with zeros\n",
    "n_states, n_actions = env.observation_space.n, env.action_space.n\n",
    "Q = np.zeros((n_states, n_actions))\n",
    "\n",
    "# set the hyperparameters\n",
    "epsilon = 0.1 # epsilon value for the epsilon greedy strategy\n",
    "lr = 0.8 # learning rate\n",
    "gamma = 0.95 # discount factor\n",
    "episodes = 10000 # number of episode\n",
    "\n",
    "for episode in range(episodes):\n",
    "    state = env.reset()\n",
    "    terminate = False # did the game end ?\n",
    "    while True:\n",
    "        # choose an action using the epsilon greedy strategy\n",
    "        action = epsilon_greedy(Q, state, epsilon)\n",
    "\n",
    "        # execute the action. The environment provides us\n",
    "        # 4 values: \n",
    "        # - the next_state we ended in after executing our action\n",
    "        # - the reward we get from executing that action\n",
    "        # - wether or not the game ended\n",
    "        # - the probability of executing our action \n",
    "        # (we don't use this information here)\n",
    "        next_state, reward, terminate, _ = env.step(action)\n",
    "\n",
    "        if reward == 0: # if we didn't reach the goal state\n",
    "            if terminate: # if the agent falls in an hole\n",
    "                r = -5 # then give them a big negative reward\n",
    "\n",
    "                # the Q-value of the terminal state equals the reward\n",
    "                Q[next_state] = np.ones(n_actions) * r\n",
    "            else: # the agent is in a frozen tile\n",
    "                r = -1 # give the agent a little negative reward to avoid long episode\n",
    "        if reward == 1: # the agent reach the goal state\n",
    "            r = 100 # give him a big reward\n",
    "\n",
    "            # the Q-value of the terminal state equals the reward\n",
    "            Q[next_state] = np.ones(n_actions) * r\n",
    "\n",
    "        # Q-learning update\n",
    "        Q[state,action] = Q[state,action] + lr * (r + gamma * np.max(Q[next_state, :]) - Q[state, action])\n",
    "\n",
    "        # move the agent to the new state before executing the next iteration\n",
    "        state = next_state\n",
    "\n",
    "        # if we reach the goal state or fall in an hole\n",
    "        # end the current episode\n",
    "        if terminate:\n",
    "            break"
   ]
  },
  {
   "cell_type": "code",
   "execution_count": 26,
   "metadata": {
    "collapsed": false
   },
   "outputs": [
    {
     "name": "stdout",
     "output_type": "stream",
     "text": [
      "[[ 20.5670044   19.51785147  17.38608862  19.14738249]\n",
      " [  0.91054803   8.77170243  -8.54227128  24.49355209]\n",
      " [ -2.97451656  -8.21166295  -6.3672637   10.55430708]\n",
      " [-10.86570585  21.38769621 -10.63188658 -10.49797182]\n",
      " [ 39.66402898   2.73335097   2.32026356   0.77168622]\n",
      " [ -5.          -5.          -5.          -5.        ]\n",
      " [ -5.53994758  -8.86302027   1.8038082   -9.85453869]\n",
      " [ -5.          -5.          -5.          -5.        ]\n",
      " [ -9.32055938   1.34942203  98.39646432  44.71442583]\n",
      " [ -7.54064598  57.76975062  16.3716856   -4.68696   ]\n",
      " [ 26.16449606   4.28321056   0.50947998  12.81580485]\n",
      " [ -5.          -5.          -5.          -5.        ]\n",
      " [ -5.          -5.          -5.          -5.        ]\n",
      " [ 15.64539901  15.775975   116.41888212   8.47312434]\n",
      " [ 72.88172146 185.0948701  113.58839144 104.58012376]\n",
      " [100.         100.         100.         100.        ]]\n"
     ]
    }
   ],
   "source": [
    "print(Q)"
   ]
  },
  {
   "cell_type": "code",
   "execution_count": 27,
   "metadata": {
    "collapsed": false
   },
   "outputs": [
    {
     "name": "stdout",
     "output_type": "stream",
     "text": [
      "####################\n",
      "  (Left)\n",
      "SFFF\n",
      "\u001b[41mF\u001b[0mHFH\n",
      "FFFH\n",
      "HFFG\n",
      "####################\n",
      "  (Left)\n",
      "SFFF\n",
      "FHFH\n",
      "\u001b[41mF\u001b[0mFFH\n",
      "HFFG\n",
      "####################\n",
      "  (Right)\n",
      "SFFF\n",
      "FHFH\n",
      "F\u001b[41mF\u001b[0mFH\n",
      "HFFG\n",
      "####################\n",
      "  (Down)\n",
      "SFFF\n",
      "FHFH\n",
      "FF\u001b[41mF\u001b[0mH\n",
      "HFFG\n",
      "####################\n",
      "  (Left)\n",
      "SFFF\n",
      "FHFH\n",
      "F\u001b[41mF\u001b[0mFH\n",
      "HFFG\n",
      "####################\n",
      "  (Down)\n",
      "SFFF\n",
      "FHFH\n",
      "\u001b[41mF\u001b[0mFFH\n",
      "HFFG\n",
      "####################\n",
      "  (Right)\n",
      "SFFF\n",
      "FHFH\n",
      "FFFH\n",
      "\u001b[41mH\u001b[0mFFG\n"
     ]
    }
   ],
   "source": [
    "state = env.reset() # reinitialize the environment\n",
    "while True:\n",
    "    # once the agent has been trained, it\n",
    "    # will take the best action in each state\n",
    "    action = np.argmax(Q[state,:])\n",
    "\n",
    "    # execute the action and recover a tuple of values\n",
    "    next_state, reward, terminate, _ = env.step(action)\n",
    "    print(\"####################\")\n",
    "    env.render() # display the new state of the game\n",
    "\n",
    "    # move the agent to the new state before executing the next iteration\n",
    "    state = next_state\n",
    "\n",
    "    # if the agent falls in an gole or ends in the goal state\n",
    "    if terminate:\n",
    "        break # break out of the loop"
   ]
  },
  {
   "cell_type": "markdown",
   "metadata": {},
   "source": [
    "#### Q-learning and Q-network"
   ]
  },
  {
   "cell_type": "code",
   "execution_count": null,
   "metadata": {
    "collapsed": true
   },
   "outputs": [],
   "source": []
  }
 ],
 "metadata": {
  "kernelspec": {
   "display_name": "Python 3",
   "language": "python",
   "name": "python3"
  },
  "language_info": {
   "codemirror_mode": {
    "name": "ipython",
    "version": 3
   },
   "file_extension": ".py",
   "mimetype": "text/x-python",
   "name": "python",
   "nbconvert_exporter": "python",
   "pygments_lexer": "ipython3",
   "version": "3.6.0"
  }
 },
 "nbformat": 4,
 "nbformat_minor": 2
}
